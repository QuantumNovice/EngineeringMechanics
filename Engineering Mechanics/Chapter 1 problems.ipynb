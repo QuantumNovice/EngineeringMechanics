{
 "cells": [
  {
   "cell_type": "code",
   "execution_count": 128,
   "metadata": {},
   "outputs": [],
   "source": [
    "from sympy import *\n",
    "from sympy.vector import CoordSys3D\n",
    "from math import degrees, radians\n",
    "C = CoordSys3D('C')\n",
    "x,y,z = symbols('x,y,z')\n",
    "init_printing()"
   ]
  },
  {
   "cell_type": "code",
   "execution_count": 198,
   "metadata": {},
   "outputs": [
    {
     "name": "stdout",
     "output_type": "stream",
     "text": [
      "V = V_sub_1 + V_sub_2:\n",
      "14.0000000000000*C.i + 16.3923048454133*C.j\n",
      "Theta sub x:\n",
      "49.50070930699314\n"
     ]
    }
   ],
   "source": [
    "abs_V_1 = 10\n",
    "theta_1 = atan2(3,4)\n",
    "\n",
    "abs_V_2 = 12\n",
    "theta_2 = radians(60)\n",
    "\n",
    "# Q1: Find V_1 + V_2\n",
    "V_1_x = abs_V_1 * cos(theta_1)\n",
    "V_1_y = abs_V_1 * sin(theta_1)\n",
    "\n",
    "V_2_x = abs_V_2 * cos(theta_2)\n",
    "V_2_y = abs_V_2 * sin(theta_2)\n",
    "\n",
    "V_1 = V_1_x*C.i + V_1_y*C.j\n",
    "V_2 = V_2_x*C.i + V_2_y*C.j\n",
    "V = V_1 + V_2\n",
    "theta_V_x = atan( V.components[C.j]/V.components[C.i])\n",
    "\n",
    "print(\"V = V_sub_1 + V_sub_2:\\n{}\".format(V))\n",
    "print(\"Theta sub x:\\n{}\".format(degrees(theta_V_x)))"
   ]
  },
  {
   "cell_type": "code",
   "execution_count": 199,
   "metadata": {},
   "outputs": [
    {
     "name": "stdout",
     "output_type": "stream",
     "text": [
      "V = V_sub_1 - V_sub_2:\n",
      "(-2.00000000000000)*C.i + 4.39230484541326*C.j\n",
      "Theta sub x:\n",
      "-65.51824215473034\n"
     ]
    }
   ],
   "source": [
    "# Q2: Find V_2-V_1, theat_V_x\n",
    "V = V_2-V_1\n",
    "theta_V_x = atan( V.components[C.j]/V.components[C.i])\n",
    "print(\"V = V_sub_1 - V_sub_2:\\n{}\".format(V))\n",
    "print(\"Theta sub x:\\n{}\".format(degrees(theta_V_x)))"
   ]
  },
  {
   "cell_type": "code",
   "execution_count": null,
   "metadata": {},
   "outputs": [],
   "source": []
  },
  {
   "cell_type": "code",
   "execution_count": null,
   "metadata": {},
   "outputs": [],
   "source": []
  }
 ],
 "metadata": {
  "kernelspec": {
   "display_name": "Python 3",
   "language": "python",
   "name": "python3"
  },
  "language_info": {
   "codemirror_mode": {
    "name": "ipython",
    "version": 3
   },
   "file_extension": ".py",
   "mimetype": "text/x-python",
   "name": "python",
   "nbconvert_exporter": "python",
   "pygments_lexer": "ipython3",
   "version": "3.6.5"
  }
 },
 "nbformat": 4,
 "nbformat_minor": 2
}
